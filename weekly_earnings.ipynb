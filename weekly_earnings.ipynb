{
 "cells": [
  {
   "cell_type": "code",
   "execution_count": 19,
   "metadata": {},
   "outputs": [],
   "source": [
    "import datetime as dt\n",
    "import pandas as pd\n",
    "from yahoo_earnings_calendar import YahooEarningsCalendar\n",
    "\n",
    "#define upcoming weekly date range\n",
    "today = dt.date.today()\n",
    "nextweek = today + dt.timedelta(days=7)\n",
    "today_str = str(today)\n",
    "\n",
    "#retrieve stocks with upcoming earnings based on date range\n",
    "yec = YahooEarningsCalendar()\n",
    "data = yec.earnings_between(today, nextweek)\n",
    "\n",
    "#create a dataframe w/ relevant fields\n",
    "df = pd.DataFrame(data=data, index=None)\n",
    "df = df[['ticker', 'companyshortname', 'startdatetime', 'epsestimate']]\n",
    "df['startdatetime'] = pd.to_datetime(df['startdatetime']) #convert format"
   ]
  },
  {
   "cell_type": "code",
   "execution_count": 20,
   "metadata": {},
   "outputs": [],
   "source": [
    "#retrieve a list of S&P500 companies\n",
    "sp500 = pd.read_html('https://en.wikipedia.org/wiki/List_of_S%26P_500_companies')\n",
    "df1 = sp500[0]\n",
    "df1 = df1[['Symbol', 'GICS Sector']]\n",
    "df1 = df1.rename(columns={\"Symbol\": \"ticker\", \"GICS Sector\": \"sector\"})"
   ]
  },
  {
   "cell_type": "code",
   "execution_count": 21,
   "metadata": {},
   "outputs": [
    {
     "name": "stdout",
     "output_type": "stream",
     "text": [
      "65 S&P500 companies reporting earnings this week\n",
      "sector\n",
      "Communication Services     5\n",
      "Consumer Discretionary    10\n",
      "Consumer Staples           2\n",
      "Energy                     9\n",
      "Health Care                4\n",
      "Industrials                6\n",
      "Information Technology    10\n",
      "Real Estate                7\n",
      "Utilities                 12\n",
      "dtype: int64\n"
     ]
    }
   ],
   "source": [
    "#join upcoming earnings  with S&P500 companies; ignoring other equities\n",
    "df2 = df.merge(df1, on='ticker', how='inner')\n",
    "\n",
    "#count S&P500 companies reporting earnings this week\n",
    "index = df2.index\n",
    "nrows = len(index)\n",
    "print(str(nrows) + \" S&P500 companies reporting earnings this week\")\n",
    "\n",
    "#group by sector\n",
    "sector = df2.groupby(['sector']).size()\n",
    "print(sector)"
   ]
  },
  {
   "cell_type": "code",
   "execution_count": null,
   "metadata": {},
   "outputs": [],
   "source": []
  }
 ],
 "metadata": {
  "kernelspec": {
   "display_name": "Python 3",
   "language": "python",
   "name": "python3"
  },
  "language_info": {
   "codemirror_mode": {
    "name": "ipython",
    "version": 3
   },
   "file_extension": ".py",
   "mimetype": "text/x-python",
   "name": "python",
   "nbconvert_exporter": "python",
   "pygments_lexer": "ipython3",
   "version": "3.7.6"
  }
 },
 "nbformat": 4,
 "nbformat_minor": 4
}
